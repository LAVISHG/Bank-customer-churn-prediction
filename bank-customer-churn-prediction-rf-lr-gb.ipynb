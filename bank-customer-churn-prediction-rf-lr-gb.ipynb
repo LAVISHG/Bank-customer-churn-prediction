{
 "cells": [
  {
   "cell_type": "markdown",
   "metadata": {
    "id": "KU8ag2UPQLir"
   },
   "source": [
    "# Importing Libraries"
   ]
  },
  {
   "cell_type": "code",
   "execution_count": 3,
   "metadata": {
    "_cell_guid": "b1076dfc-b9ad-4769-8c92-a6c4dae69d19",
    "_uuid": "8f2839f25d086af736a60e9eeb907d3b93b6e0e5",
    "execution": {
     "iopub.execute_input": "2024-03-25T20:14:54.362897Z",
     "iopub.status.busy": "2024-03-25T20:14:54.362278Z",
     "iopub.status.idle": "2024-03-25T20:14:54.376051Z",
     "shell.execute_reply": "2024-03-25T20:14:54.372953Z",
     "shell.execute_reply.started": "2024-03-25T20:14:54.362821Z"
    },
    "id": "ae302830",
    "papermill": {
     "duration": 3.166734,
     "end_time": "2024-02-19T18:08:24.997512",
     "exception": false,
     "start_time": "2024-02-19T18:08:21.830778",
     "status": "completed"
    },
    "tags": []
   },
   "outputs": [],
   "source": [
    "from sklearn.preprocessing import LabelEncoder\n",
    "from sklearn.model_selection import train_test_split\n",
    "from sklearn.ensemble import RandomForestClassifier\n",
    "from sklearn.linear_model import LogisticRegression\n",
    "from sklearn.ensemble import GradientBoostingClassifier\n",
    "from sklearn.metrics import accuracy_score, classification_report, confusion_matrix, roc_curve, auc\n",
    "import matplotlib.pyplot as plt\n",
    "import seaborn as sns\n",
    "import numpy as np\n",
    "import pandas as pd\n",
    "import warnings\n",
    "warnings.filterwarnings(\"ignore\")"
   ]
  },
  {
   "cell_type": "markdown",
   "metadata": {
    "id": "OJSH2ANaQQeB"
   },
   "source": [
    "# Loading Dataset"
   ]
  },
  {
   "cell_type": "code",
   "execution_count": 4,
   "metadata": {
    "execution": {
     "iopub.execute_input": "2024-03-25T20:14:54.379762Z",
     "iopub.status.busy": "2024-03-25T20:14:54.37897Z",
     "iopub.status.idle": "2024-03-25T20:14:54.430949Z",
     "shell.execute_reply": "2024-03-25T20:14:54.429562Z",
     "shell.execute_reply.started": "2024-03-25T20:14:54.379725Z"
    },
    "id": "1bd6646c",
    "outputId": "6366b945-628a-43d7-9149-d06c02927b7a",
    "papermill": {
     "duration": 0.101014,
     "end_time": "2024-02-19T18:08:25.10495",
     "exception": false,
     "start_time": "2024-02-19T18:08:25.003936",
     "status": "completed"
    },
    "tags": []
   },
   "outputs": [
    {
     "ename": "FileNotFoundError",
     "evalue": "[Errno 2] No such file or directory: 'Churn_Modelling.csv'",
     "output_type": "error",
     "traceback": [
      "\u001b[1;31m---------------------------------------------------------------------------\u001b[0m",
      "\u001b[1;31mFileNotFoundError\u001b[0m                         Traceback (most recent call last)",
      "Cell \u001b[1;32mIn[4], line 1\u001b[0m\n\u001b[1;32m----> 1\u001b[0m df\u001b[38;5;241m=\u001b[39mpd\u001b[38;5;241m.\u001b[39mread_csv(\u001b[38;5;124m'\u001b[39m\u001b[38;5;124mChurn_Modelling.csv\u001b[39m\u001b[38;5;124m'\u001b[39m)\n\u001b[0;32m      2\u001b[0m df\u001b[38;5;241m.\u001b[39mhead()\n",
      "File \u001b[1;32mC:\\ProgramData\\anaconda3\\Lib\\site-packages\\pandas\\io\\parsers\\readers.py:948\u001b[0m, in \u001b[0;36mread_csv\u001b[1;34m(filepath_or_buffer, sep, delimiter, header, names, index_col, usecols, dtype, engine, converters, true_values, false_values, skipinitialspace, skiprows, skipfooter, nrows, na_values, keep_default_na, na_filter, verbose, skip_blank_lines, parse_dates, infer_datetime_format, keep_date_col, date_parser, date_format, dayfirst, cache_dates, iterator, chunksize, compression, thousands, decimal, lineterminator, quotechar, quoting, doublequote, escapechar, comment, encoding, encoding_errors, dialect, on_bad_lines, delim_whitespace, low_memory, memory_map, float_precision, storage_options, dtype_backend)\u001b[0m\n\u001b[0;32m    935\u001b[0m kwds_defaults \u001b[38;5;241m=\u001b[39m _refine_defaults_read(\n\u001b[0;32m    936\u001b[0m     dialect,\n\u001b[0;32m    937\u001b[0m     delimiter,\n\u001b[1;32m   (...)\u001b[0m\n\u001b[0;32m    944\u001b[0m     dtype_backend\u001b[38;5;241m=\u001b[39mdtype_backend,\n\u001b[0;32m    945\u001b[0m )\n\u001b[0;32m    946\u001b[0m kwds\u001b[38;5;241m.\u001b[39mupdate(kwds_defaults)\n\u001b[1;32m--> 948\u001b[0m \u001b[38;5;28;01mreturn\u001b[39;00m _read(filepath_or_buffer, kwds)\n",
      "File \u001b[1;32mC:\\ProgramData\\anaconda3\\Lib\\site-packages\\pandas\\io\\parsers\\readers.py:611\u001b[0m, in \u001b[0;36m_read\u001b[1;34m(filepath_or_buffer, kwds)\u001b[0m\n\u001b[0;32m    608\u001b[0m _validate_names(kwds\u001b[38;5;241m.\u001b[39mget(\u001b[38;5;124m\"\u001b[39m\u001b[38;5;124mnames\u001b[39m\u001b[38;5;124m\"\u001b[39m, \u001b[38;5;28;01mNone\u001b[39;00m))\n\u001b[0;32m    610\u001b[0m \u001b[38;5;66;03m# Create the parser.\u001b[39;00m\n\u001b[1;32m--> 611\u001b[0m parser \u001b[38;5;241m=\u001b[39m TextFileReader(filepath_or_buffer, \u001b[38;5;241m*\u001b[39m\u001b[38;5;241m*\u001b[39mkwds)\n\u001b[0;32m    613\u001b[0m \u001b[38;5;28;01mif\u001b[39;00m chunksize \u001b[38;5;129;01mor\u001b[39;00m iterator:\n\u001b[0;32m    614\u001b[0m     \u001b[38;5;28;01mreturn\u001b[39;00m parser\n",
      "File \u001b[1;32mC:\\ProgramData\\anaconda3\\Lib\\site-packages\\pandas\\io\\parsers\\readers.py:1448\u001b[0m, in \u001b[0;36mTextFileReader.__init__\u001b[1;34m(self, f, engine, **kwds)\u001b[0m\n\u001b[0;32m   1445\u001b[0m     \u001b[38;5;28mself\u001b[39m\u001b[38;5;241m.\u001b[39moptions[\u001b[38;5;124m\"\u001b[39m\u001b[38;5;124mhas_index_names\u001b[39m\u001b[38;5;124m\"\u001b[39m] \u001b[38;5;241m=\u001b[39m kwds[\u001b[38;5;124m\"\u001b[39m\u001b[38;5;124mhas_index_names\u001b[39m\u001b[38;5;124m\"\u001b[39m]\n\u001b[0;32m   1447\u001b[0m \u001b[38;5;28mself\u001b[39m\u001b[38;5;241m.\u001b[39mhandles: IOHandles \u001b[38;5;241m|\u001b[39m \u001b[38;5;28;01mNone\u001b[39;00m \u001b[38;5;241m=\u001b[39m \u001b[38;5;28;01mNone\u001b[39;00m\n\u001b[1;32m-> 1448\u001b[0m \u001b[38;5;28mself\u001b[39m\u001b[38;5;241m.\u001b[39m_engine \u001b[38;5;241m=\u001b[39m \u001b[38;5;28mself\u001b[39m\u001b[38;5;241m.\u001b[39m_make_engine(f, \u001b[38;5;28mself\u001b[39m\u001b[38;5;241m.\u001b[39mengine)\n",
      "File \u001b[1;32mC:\\ProgramData\\anaconda3\\Lib\\site-packages\\pandas\\io\\parsers\\readers.py:1705\u001b[0m, in \u001b[0;36mTextFileReader._make_engine\u001b[1;34m(self, f, engine)\u001b[0m\n\u001b[0;32m   1703\u001b[0m     \u001b[38;5;28;01mif\u001b[39;00m \u001b[38;5;124m\"\u001b[39m\u001b[38;5;124mb\u001b[39m\u001b[38;5;124m\"\u001b[39m \u001b[38;5;129;01mnot\u001b[39;00m \u001b[38;5;129;01min\u001b[39;00m mode:\n\u001b[0;32m   1704\u001b[0m         mode \u001b[38;5;241m+\u001b[39m\u001b[38;5;241m=\u001b[39m \u001b[38;5;124m\"\u001b[39m\u001b[38;5;124mb\u001b[39m\u001b[38;5;124m\"\u001b[39m\n\u001b[1;32m-> 1705\u001b[0m \u001b[38;5;28mself\u001b[39m\u001b[38;5;241m.\u001b[39mhandles \u001b[38;5;241m=\u001b[39m get_handle(\n\u001b[0;32m   1706\u001b[0m     f,\n\u001b[0;32m   1707\u001b[0m     mode,\n\u001b[0;32m   1708\u001b[0m     encoding\u001b[38;5;241m=\u001b[39m\u001b[38;5;28mself\u001b[39m\u001b[38;5;241m.\u001b[39moptions\u001b[38;5;241m.\u001b[39mget(\u001b[38;5;124m\"\u001b[39m\u001b[38;5;124mencoding\u001b[39m\u001b[38;5;124m\"\u001b[39m, \u001b[38;5;28;01mNone\u001b[39;00m),\n\u001b[0;32m   1709\u001b[0m     compression\u001b[38;5;241m=\u001b[39m\u001b[38;5;28mself\u001b[39m\u001b[38;5;241m.\u001b[39moptions\u001b[38;5;241m.\u001b[39mget(\u001b[38;5;124m\"\u001b[39m\u001b[38;5;124mcompression\u001b[39m\u001b[38;5;124m\"\u001b[39m, \u001b[38;5;28;01mNone\u001b[39;00m),\n\u001b[0;32m   1710\u001b[0m     memory_map\u001b[38;5;241m=\u001b[39m\u001b[38;5;28mself\u001b[39m\u001b[38;5;241m.\u001b[39moptions\u001b[38;5;241m.\u001b[39mget(\u001b[38;5;124m\"\u001b[39m\u001b[38;5;124mmemory_map\u001b[39m\u001b[38;5;124m\"\u001b[39m, \u001b[38;5;28;01mFalse\u001b[39;00m),\n\u001b[0;32m   1711\u001b[0m     is_text\u001b[38;5;241m=\u001b[39mis_text,\n\u001b[0;32m   1712\u001b[0m     errors\u001b[38;5;241m=\u001b[39m\u001b[38;5;28mself\u001b[39m\u001b[38;5;241m.\u001b[39moptions\u001b[38;5;241m.\u001b[39mget(\u001b[38;5;124m\"\u001b[39m\u001b[38;5;124mencoding_errors\u001b[39m\u001b[38;5;124m\"\u001b[39m, \u001b[38;5;124m\"\u001b[39m\u001b[38;5;124mstrict\u001b[39m\u001b[38;5;124m\"\u001b[39m),\n\u001b[0;32m   1713\u001b[0m     storage_options\u001b[38;5;241m=\u001b[39m\u001b[38;5;28mself\u001b[39m\u001b[38;5;241m.\u001b[39moptions\u001b[38;5;241m.\u001b[39mget(\u001b[38;5;124m\"\u001b[39m\u001b[38;5;124mstorage_options\u001b[39m\u001b[38;5;124m\"\u001b[39m, \u001b[38;5;28;01mNone\u001b[39;00m),\n\u001b[0;32m   1714\u001b[0m )\n\u001b[0;32m   1715\u001b[0m \u001b[38;5;28;01massert\u001b[39;00m \u001b[38;5;28mself\u001b[39m\u001b[38;5;241m.\u001b[39mhandles \u001b[38;5;129;01mis\u001b[39;00m \u001b[38;5;129;01mnot\u001b[39;00m \u001b[38;5;28;01mNone\u001b[39;00m\n\u001b[0;32m   1716\u001b[0m f \u001b[38;5;241m=\u001b[39m \u001b[38;5;28mself\u001b[39m\u001b[38;5;241m.\u001b[39mhandles\u001b[38;5;241m.\u001b[39mhandle\n",
      "File \u001b[1;32mC:\\ProgramData\\anaconda3\\Lib\\site-packages\\pandas\\io\\common.py:863\u001b[0m, in \u001b[0;36mget_handle\u001b[1;34m(path_or_buf, mode, encoding, compression, memory_map, is_text, errors, storage_options)\u001b[0m\n\u001b[0;32m    858\u001b[0m \u001b[38;5;28;01melif\u001b[39;00m \u001b[38;5;28misinstance\u001b[39m(handle, \u001b[38;5;28mstr\u001b[39m):\n\u001b[0;32m    859\u001b[0m     \u001b[38;5;66;03m# Check whether the filename is to be opened in binary mode.\u001b[39;00m\n\u001b[0;32m    860\u001b[0m     \u001b[38;5;66;03m# Binary mode does not support 'encoding' and 'newline'.\u001b[39;00m\n\u001b[0;32m    861\u001b[0m     \u001b[38;5;28;01mif\u001b[39;00m ioargs\u001b[38;5;241m.\u001b[39mencoding \u001b[38;5;129;01mand\u001b[39;00m \u001b[38;5;124m\"\u001b[39m\u001b[38;5;124mb\u001b[39m\u001b[38;5;124m\"\u001b[39m \u001b[38;5;129;01mnot\u001b[39;00m \u001b[38;5;129;01min\u001b[39;00m ioargs\u001b[38;5;241m.\u001b[39mmode:\n\u001b[0;32m    862\u001b[0m         \u001b[38;5;66;03m# Encoding\u001b[39;00m\n\u001b[1;32m--> 863\u001b[0m         handle \u001b[38;5;241m=\u001b[39m \u001b[38;5;28mopen\u001b[39m(\n\u001b[0;32m    864\u001b[0m             handle,\n\u001b[0;32m    865\u001b[0m             ioargs\u001b[38;5;241m.\u001b[39mmode,\n\u001b[0;32m    866\u001b[0m             encoding\u001b[38;5;241m=\u001b[39mioargs\u001b[38;5;241m.\u001b[39mencoding,\n\u001b[0;32m    867\u001b[0m             errors\u001b[38;5;241m=\u001b[39merrors,\n\u001b[0;32m    868\u001b[0m             newline\u001b[38;5;241m=\u001b[39m\u001b[38;5;124m\"\u001b[39m\u001b[38;5;124m\"\u001b[39m,\n\u001b[0;32m    869\u001b[0m         )\n\u001b[0;32m    870\u001b[0m     \u001b[38;5;28;01melse\u001b[39;00m:\n\u001b[0;32m    871\u001b[0m         \u001b[38;5;66;03m# Binary mode\u001b[39;00m\n\u001b[0;32m    872\u001b[0m         handle \u001b[38;5;241m=\u001b[39m \u001b[38;5;28mopen\u001b[39m(handle, ioargs\u001b[38;5;241m.\u001b[39mmode)\n",
      "\u001b[1;31mFileNotFoundError\u001b[0m: [Errno 2] No such file or directory: 'Churn_Modelling.csv'"
     ]
    }
   ],
   "source": [
    "df=pd.read_csv('Churn_Modelling.csv')\n",
    "df.head()"
   ]
  },
  {
   "cell_type": "code",
   "execution_count": null,
   "metadata": {
    "execution": {
     "iopub.execute_input": "2024-03-25T20:14:54.432713Z",
     "iopub.status.busy": "2024-03-25T20:14:54.432319Z",
     "iopub.status.idle": "2024-03-25T20:14:54.457549Z",
     "shell.execute_reply": "2024-03-25T20:14:54.45577Z",
     "shell.execute_reply.started": "2024-03-25T20:14:54.432663Z"
    },
    "id": "_Ua2OVn0dE38",
    "outputId": "09005702-cc77-4d33-b763-193c7d7bc6d6"
   },
   "outputs": [],
   "source": [
    "df.tail()"
   ]
  },
  {
   "cell_type": "code",
   "execution_count": null,
   "metadata": {
    "execution": {
     "iopub.execute_input": "2024-03-25T20:14:54.462048Z",
     "iopub.status.busy": "2024-03-25T20:14:54.46152Z",
     "iopub.status.idle": "2024-03-25T20:14:54.497814Z",
     "shell.execute_reply": "2024-03-25T20:14:54.496258Z",
     "shell.execute_reply.started": "2024-03-25T20:14:54.462007Z"
    },
    "id": "4f2e1246",
    "outputId": "878bdda5-6230-42da-a9b4-f43cb3fccb01",
    "papermill": {
     "duration": 0.042547,
     "end_time": "2024-02-19T18:08:25.154149",
     "exception": false,
     "start_time": "2024-02-19T18:08:25.111602",
     "status": "completed"
    },
    "tags": []
   },
   "outputs": [],
   "source": [
    "#Data is Clear\n",
    "df.info()"
   ]
  },
  {
   "cell_type": "code",
   "execution_count": null,
   "metadata": {
    "execution": {
     "iopub.execute_input": "2024-03-25T20:14:54.500149Z",
     "iopub.status.busy": "2024-03-25T20:14:54.499775Z",
     "iopub.status.idle": "2024-03-25T20:14:54.510025Z",
     "shell.execute_reply": "2024-03-25T20:14:54.509065Z",
     "shell.execute_reply.started": "2024-03-25T20:14:54.50012Z"
    },
    "id": "84369678",
    "outputId": "8b028ee8-83c5-434c-df39-d179c07c1584",
    "papermill": {
     "duration": 0.0219,
     "end_time": "2024-02-19T18:08:25.182692",
     "exception": false,
     "start_time": "2024-02-19T18:08:25.160792",
     "status": "completed"
    },
    "tags": []
   },
   "outputs": [],
   "source": [
    "#Three unique countries\n",
    "df[\"Geography\"].unique()"
   ]
  },
  {
   "cell_type": "code",
   "execution_count": null,
   "metadata": {
    "execution": {
     "iopub.execute_input": "2024-03-25T20:14:54.512005Z",
     "iopub.status.busy": "2024-03-25T20:14:54.511449Z",
     "iopub.status.idle": "2024-03-25T20:14:54.568648Z",
     "shell.execute_reply": "2024-03-25T20:14:54.567196Z",
     "shell.execute_reply.started": "2024-03-25T20:14:54.511967Z"
    },
    "id": "9d2c4d47",
    "outputId": "9b9ace6b-2b0d-4142-d046-457b926e73e5",
    "papermill": {
     "duration": 0.060772,
     "end_time": "2024-02-19T18:08:25.250297",
     "exception": false,
     "start_time": "2024-02-19T18:08:25.189525",
     "status": "completed"
    },
    "tags": []
   },
   "outputs": [],
   "source": [
    "df.describe()"
   ]
  },
  {
   "cell_type": "code",
   "execution_count": null,
   "metadata": {
    "execution": {
     "iopub.execute_input": "2024-03-25T20:14:54.571022Z",
     "iopub.status.busy": "2024-03-25T20:14:54.570519Z",
     "iopub.status.idle": "2024-03-25T20:14:54.787502Z",
     "shell.execute_reply": "2024-03-25T20:14:54.785923Z",
     "shell.execute_reply.started": "2024-03-25T20:14:54.570981Z"
    },
    "id": "8K5ui_a6cOqR",
    "outputId": "5f35c1e1-9f9b-4c1a-8ffe-45d4b7e35810"
   },
   "outputs": [],
   "source": [
    "#Gender distribution\n",
    "plt.figure(figsize = (10,5))\n",
    "plt.pie(df['Gender'].value_counts().values,labels=['Male','Female'],autopct='%.f%%',explode = [0,0.1],shadow = True)\n",
    "plt.show()"
   ]
  },
  {
   "cell_type": "code",
   "execution_count": null,
   "metadata": {
    "execution": {
     "iopub.execute_input": "2024-03-25T20:14:54.791002Z",
     "iopub.status.busy": "2024-03-25T20:14:54.790033Z",
     "iopub.status.idle": "2024-03-25T20:14:55.078576Z",
     "shell.execute_reply": "2024-03-25T20:14:55.076898Z",
     "shell.execute_reply.started": "2024-03-25T20:14:54.790946Z"
    },
    "id": "kr3Cb23_cpSs",
    "outputId": "1e5dcdde-7655-4508-d6c0-6a07daa6f74b"
   },
   "outputs": [],
   "source": [
    "#Geography wise\n",
    "region = df.Geography.value_counts().to_frame().reset_index()\n",
    "region.columns = ['Country','Count']\n",
    "plt.figure(figsize = (5,5))\n",
    "ax=sns.barplot(x = region['Country'],y = region['Count'],palette='GnBu')\n",
    "for i in ax.containers:\n",
    "    ax.bar_label(i,)"
   ]
  },
  {
   "cell_type": "markdown",
   "metadata": {
    "id": "c6accfy2Ynww"
   },
   "source": [
    "# Data Cleaning"
   ]
  },
  {
   "cell_type": "code",
   "execution_count": null,
   "metadata": {
    "execution": {
     "iopub.execute_input": "2024-03-25T20:14:55.081479Z",
     "iopub.status.busy": "2024-03-25T20:14:55.08089Z",
     "iopub.status.idle": "2024-03-25T20:14:55.107765Z",
     "shell.execute_reply": "2024-03-25T20:14:55.106507Z",
     "shell.execute_reply.started": "2024-03-25T20:14:55.081433Z"
    },
    "id": "5e1c3430",
    "outputId": "5ce0e800-2060-463d-bed9-e15182a64c8d",
    "papermill": {
     "duration": 0.03564,
     "end_time": "2024-02-19T18:08:25.293408",
     "exception": false,
     "start_time": "2024-02-19T18:08:25.257768",
     "status": "completed"
    },
    "tags": []
   },
   "outputs": [],
   "source": [
    "#Delete unnecessary columns\n",
    "df.drop(columns=['RowNumber','CustomerId','Surname'],inplace=True)\n",
    "df.head()"
   ]
  },
  {
   "cell_type": "code",
   "execution_count": null,
   "metadata": {
    "execution": {
     "iopub.execute_input": "2024-03-25T20:14:55.112759Z",
     "iopub.status.busy": "2024-03-25T20:14:55.112302Z",
     "iopub.status.idle": "2024-03-25T20:14:55.140903Z",
     "shell.execute_reply": "2024-03-25T20:14:55.139277Z",
     "shell.execute_reply.started": "2024-03-25T20:14:55.112726Z"
    },
    "id": "ff1a0a72",
    "outputId": "4298b924-d982-4831-fa71-58209661107f",
    "papermill": {
     "duration": 0.040284,
     "end_time": "2024-02-19T18:08:25.341461",
     "exception": false,
     "start_time": "2024-02-19T18:08:25.301177",
     "status": "completed"
    },
    "tags": []
   },
   "outputs": [],
   "source": [
    "#Encoding\n",
    "labelencoder=LabelEncoder()\n",
    "df['Gender']=labelencoder.fit_transform(df['Gender'])\n",
    "df['Geography']=labelencoder.fit_transform(df['Geography'])\n",
    "df.head()"
   ]
  },
  {
   "cell_type": "code",
   "execution_count": null,
   "metadata": {
    "execution": {
     "iopub.execute_input": "2024-03-25T20:14:55.143008Z",
     "iopub.status.busy": "2024-03-25T20:14:55.142575Z",
     "iopub.status.idle": "2024-03-25T20:14:55.156991Z",
     "shell.execute_reply": "2024-03-25T20:14:55.155715Z",
     "shell.execute_reply.started": "2024-03-25T20:14:55.142976Z"
    },
    "id": "e90eba69",
    "outputId": "ec76e997-e72d-45c8-dc8e-88fc10bb590b",
    "papermill": {
     "duration": 0.021329,
     "end_time": "2024-02-19T18:08:25.371158",
     "exception": false,
     "start_time": "2024-02-19T18:08:25.349829",
     "status": "completed"
    },
    "tags": []
   },
   "outputs": [],
   "source": [
    "df.dtypes"
   ]
  },
  {
   "cell_type": "code",
   "execution_count": null,
   "metadata": {
    "execution": {
     "iopub.execute_input": "2024-03-25T20:14:55.159076Z",
     "iopub.status.busy": "2024-03-25T20:14:55.158705Z",
     "iopub.status.idle": "2024-03-25T20:14:55.168279Z",
     "shell.execute_reply": "2024-03-25T20:14:55.166803Z",
     "shell.execute_reply.started": "2024-03-25T20:14:55.159046Z"
    },
    "id": "240633ab",
    "papermill": {
     "duration": 0.018576,
     "end_time": "2024-02-19T18:08:25.398047",
     "exception": false,
     "start_time": "2024-02-19T18:08:25.379471",
     "status": "completed"
    },
    "tags": []
   },
   "outputs": [],
   "source": [
    "#Droping coulmn from the features\n",
    "x=df.drop(columns='Exited')\n",
    "y=df['Exited']"
   ]
  },
  {
   "cell_type": "code",
   "execution_count": null,
   "metadata": {
    "execution": {
     "iopub.execute_input": "2024-03-25T20:14:55.171338Z",
     "iopub.status.busy": "2024-03-25T20:14:55.169896Z",
     "iopub.status.idle": "2024-03-25T20:14:55.183962Z",
     "shell.execute_reply": "2024-03-25T20:14:55.182636Z",
     "shell.execute_reply.started": "2024-03-25T20:14:55.171307Z"
    },
    "id": "a9444672",
    "papermill": {
     "duration": 0.022117,
     "end_time": "2024-02-19T18:08:25.428826",
     "exception": false,
     "start_time": "2024-02-19T18:08:25.406709",
     "status": "completed"
    },
    "tags": []
   },
   "outputs": [],
   "source": [
    "x_train,x_test,y_train,y_test=train_test_split(x,y,test_size=0.3,shuffle=True,random_state=40)"
   ]
  },
  {
   "cell_type": "markdown",
   "metadata": {
    "id": "Zfco1hDkL5zy"
   },
   "source": [
    "# Random Forest"
   ]
  },
  {
   "cell_type": "code",
   "execution_count": null,
   "metadata": {
    "execution": {
     "iopub.execute_input": "2024-03-25T20:14:55.186944Z",
     "iopub.status.busy": "2024-03-25T20:14:55.185936Z",
     "iopub.status.idle": "2024-03-25T20:14:56.490799Z",
     "shell.execute_reply": "2024-03-25T20:14:56.489499Z",
     "shell.execute_reply.started": "2024-03-25T20:14:55.18691Z"
    },
    "id": "1f5cf13e",
    "outputId": "6dac25cf-42ce-4158-adb4-612d3c387ed1",
    "papermill": {
     "duration": 1.30942,
     "end_time": "2024-02-19T18:08:26.746636",
     "exception": false,
     "start_time": "2024-02-19T18:08:25.437216",
     "status": "completed"
    },
    "tags": []
   },
   "outputs": [],
   "source": [
    "#Create Random Forest Classifier model\n",
    "model=RandomForestClassifier()\n",
    "model.fit(x_train,y_train)"
   ]
  },
  {
   "cell_type": "code",
   "execution_count": null,
   "metadata": {
    "execution": {
     "iopub.execute_input": "2024-03-25T20:14:56.493559Z",
     "iopub.status.busy": "2024-03-25T20:14:56.492463Z",
     "iopub.status.idle": "2024-03-25T20:14:56.637933Z",
     "shell.execute_reply": "2024-03-25T20:14:56.63673Z",
     "shell.execute_reply.started": "2024-03-25T20:14:56.493501Z"
    },
    "id": "71d5a849",
    "outputId": "fd4d2cc4-5acb-4cbe-d3f2-d44e30ff8290",
    "papermill": {
     "duration": 0.149357,
     "end_time": "2024-02-19T18:08:26.905012",
     "exception": false,
     "start_time": "2024-02-19T18:08:26.755655",
     "status": "completed"
    },
    "tags": []
   },
   "outputs": [],
   "source": [
    "#Model score\n",
    "model.score(x_train,y_train)"
   ]
  },
  {
   "cell_type": "code",
   "execution_count": null,
   "metadata": {
    "execution": {
     "iopub.execute_input": "2024-03-25T20:14:56.639837Z",
     "iopub.status.busy": "2024-03-25T20:14:56.639426Z",
     "iopub.status.idle": "2024-03-25T20:14:56.716991Z",
     "shell.execute_reply": "2024-03-25T20:14:56.71557Z",
     "shell.execute_reply.started": "2024-03-25T20:14:56.639806Z"
    },
    "id": "750fa925",
    "outputId": "4fdafd08-1fc9-4400-9d7a-d6f322eff3ab",
    "papermill": {
     "duration": 0.086311,
     "end_time": "2024-02-19T18:08:27.000562",
     "exception": false,
     "start_time": "2024-02-19T18:08:26.914251",
     "status": "completed"
    },
    "tags": []
   },
   "outputs": [],
   "source": [
    "#Prediction\n",
    "y_pred = model.predict(x_test)\n",
    "y_pred"
   ]
  },
  {
   "cell_type": "code",
   "execution_count": null,
   "metadata": {
    "execution": {
     "iopub.execute_input": "2024-03-25T20:14:56.719254Z",
     "iopub.status.busy": "2024-03-25T20:14:56.718859Z",
     "iopub.status.idle": "2024-03-25T20:14:56.72688Z",
     "shell.execute_reply": "2024-03-25T20:14:56.725488Z",
     "shell.execute_reply.started": "2024-03-25T20:14:56.719223Z"
    },
    "id": "2bd27bf7",
    "outputId": "3d5706c2-0fc4-496f-8068-b35bb24abb44",
    "papermill": {
     "duration": 0.022954,
     "end_time": "2024-02-19T18:08:27.032791",
     "exception": false,
     "start_time": "2024-02-19T18:08:27.009837",
     "status": "completed"
    },
    "tags": []
   },
   "outputs": [],
   "source": [
    "#Length\n",
    "len(y_pred)"
   ]
  },
  {
   "cell_type": "code",
   "execution_count": null,
   "metadata": {
    "execution": {
     "iopub.execute_input": "2024-03-25T20:14:56.729426Z",
     "iopub.status.busy": "2024-03-25T20:14:56.72905Z",
     "iopub.status.idle": "2024-03-25T20:14:56.741547Z",
     "shell.execute_reply": "2024-03-25T20:14:56.740266Z",
     "shell.execute_reply.started": "2024-03-25T20:14:56.729396Z"
    },
    "id": "42f7b8c5",
    "outputId": "57157b1f-144a-4d82-91e6-63251046c58c",
    "papermill": {
     "duration": 0.026313,
     "end_time": "2024-02-19T18:08:27.071023",
     "exception": false,
     "start_time": "2024-02-19T18:08:27.04471",
     "status": "completed"
    },
    "tags": []
   },
   "outputs": [],
   "source": [
    "#Accuracy\n",
    "accuracy = accuracy_score(y_test, y_pred)\n",
    "print(\"Accuracy: {:.2f}%\".format(accuracy * 100))"
   ]
  },
  {
   "cell_type": "code",
   "execution_count": null,
   "metadata": {
    "execution": {
     "iopub.execute_input": "2024-03-25T20:14:56.743646Z",
     "iopub.status.busy": "2024-03-25T20:14:56.743253Z",
     "iopub.status.idle": "2024-03-25T20:14:57.131473Z",
     "shell.execute_reply": "2024-03-25T20:14:57.130224Z",
     "shell.execute_reply.started": "2024-03-25T20:14:56.743608Z"
    },
    "id": "2c194a64",
    "outputId": "e23ab2b2-3ee9-492e-ff5b-19ba6987aefb",
    "papermill": {
     "duration": 0.406482,
     "end_time": "2024-02-19T18:08:27.490231",
     "exception": false,
     "start_time": "2024-02-19T18:08:27.083749",
     "status": "completed"
    },
    "tags": []
   },
   "outputs": [],
   "source": [
    "#Visualization\n",
    "y_prob = model.predict_proba(x_test)[:, 1]\n",
    "fpr, tpr, thresholds = roc_curve(y_test, y_prob)\n",
    "\n",
    "plt.figure(figsize=(10, 5))\n",
    "plt.plot(fpr, tpr, color='red', lw=2)\n",
    "plt.plot([0, 1], [0, 1], color='black', lw=2)\n",
    "plt.xlabel('False Positive Rate')\n",
    "plt.ylabel('True Positive Rate')\n",
    "plt.title('RandomForestClassifier\\nAccuracy: {:.2f}%'.format(accuracy * 100))\n",
    "plt.show()"
   ]
  },
  {
   "cell_type": "markdown",
   "metadata": {
    "id": "5L3IhDl5aAPZ"
   },
   "source": [
    "# Logistic Regression"
   ]
  },
  {
   "cell_type": "code",
   "execution_count": null,
   "metadata": {
    "execution": {
     "iopub.execute_input": "2024-03-25T20:14:57.133564Z",
     "iopub.status.busy": "2024-03-25T20:14:57.133212Z",
     "iopub.status.idle": "2024-03-25T20:14:57.228224Z",
     "shell.execute_reply": "2024-03-25T20:14:57.226678Z",
     "shell.execute_reply.started": "2024-03-25T20:14:57.133534Z"
    },
    "id": "Ka7tg2i3MKp6",
    "outputId": "b17e7e99-bd6a-4a47-806a-5d837a49dd94"
   },
   "outputs": [],
   "source": [
    "#Create Logistic Regression model\n",
    "model=LogisticRegression()\n",
    "model.fit(x_train,y_train)"
   ]
  },
  {
   "cell_type": "code",
   "execution_count": null,
   "metadata": {
    "execution": {
     "iopub.execute_input": "2024-03-25T20:14:57.231779Z",
     "iopub.status.busy": "2024-03-25T20:14:57.230793Z",
     "iopub.status.idle": "2024-03-25T20:14:57.254034Z",
     "shell.execute_reply": "2024-03-25T20:14:57.252432Z",
     "shell.execute_reply.started": "2024-03-25T20:14:57.231724Z"
    },
    "id": "LnQWWnDKee61",
    "outputId": "8f927879-8b0e-465a-9f84-807b09ac289b"
   },
   "outputs": [],
   "source": [
    "#Model Score\n",
    "model_score=model.score(x_train,y_train)\n",
    "print(model_score)"
   ]
  },
  {
   "cell_type": "code",
   "execution_count": null,
   "metadata": {
    "execution": {
     "iopub.execute_input": "2024-03-25T20:14:57.258199Z",
     "iopub.status.busy": "2024-03-25T20:14:57.256949Z",
     "iopub.status.idle": "2024-03-25T20:14:57.281701Z",
     "shell.execute_reply": "2024-03-25T20:14:57.27985Z",
     "shell.execute_reply.started": "2024-03-25T20:14:57.258141Z"
    },
    "id": "Jb9zjkRjeuhH",
    "outputId": "7e58ecc6-9cfc-49d7-f604-c3fe9e6fbae5"
   },
   "outputs": [],
   "source": [
    "#Prediction\n",
    "y_pred=model.predict(x_test)\n",
    "print(y_pred)"
   ]
  },
  {
   "cell_type": "code",
   "execution_count": null,
   "metadata": {
    "execution": {
     "iopub.execute_input": "2024-03-25T20:14:57.287012Z",
     "iopub.status.busy": "2024-03-25T20:14:57.285213Z",
     "iopub.status.idle": "2024-03-25T20:14:57.302761Z",
     "shell.execute_reply": "2024-03-25T20:14:57.300907Z",
     "shell.execute_reply.started": "2024-03-25T20:14:57.286935Z"
    },
    "id": "wFr6H1pLfSPv",
    "outputId": "49f14438-a5e9-4969-8c5a-ddb9b4cce3e1"
   },
   "outputs": [],
   "source": [
    "#Accuracy\n",
    "accuracy=accuracy_score(y_test, y_pred)\n",
    "print(\"Accuracy: {:.2f}%\".format(accuracy * 100))"
   ]
  },
  {
   "cell_type": "code",
   "execution_count": null,
   "metadata": {
    "execution": {
     "iopub.execute_input": "2024-03-25T20:14:57.30745Z",
     "iopub.status.busy": "2024-03-25T20:14:57.305931Z",
     "iopub.status.idle": "2024-03-25T20:14:57.672762Z",
     "shell.execute_reply": "2024-03-25T20:14:57.671514Z",
     "shell.execute_reply.started": "2024-03-25T20:14:57.307383Z"
    },
    "id": "MAUCHF3RfjEu",
    "outputId": "94230401-56c5-44ac-a2be-9f09f4194005"
   },
   "outputs": [],
   "source": [
    "#Visualization\n",
    "y_prob = model.predict_proba(x_test)[:, 1]\n",
    "fpr, tpr, thresholds = roc_curve(y_test, y_prob)\n",
    "\n",
    "plt.figure(figsize=(10, 5))\n",
    "plt.plot(fpr, tpr, color='blue', lw=2)\n",
    "plt.plot([0, 1], [0, 1], color='black', lw=2)\n",
    "plt.xlabel('False Positive Rate')\n",
    "plt.ylabel('True Positive Rate')\n",
    "plt.title('Logistic Regression\\nAccuracy: {:.2f}%'.format(accuracy * 100))\n",
    "plt.show()"
   ]
  },
  {
   "cell_type": "markdown",
   "metadata": {
    "id": "KctnQ4tagH9z"
   },
   "source": [
    "# Gradient Boosting"
   ]
  },
  {
   "cell_type": "code",
   "execution_count": null,
   "metadata": {
    "execution": {
     "iopub.execute_input": "2024-03-25T20:14:57.67469Z",
     "iopub.status.busy": "2024-03-25T20:14:57.674315Z",
     "iopub.status.idle": "2024-03-25T20:14:58.802275Z",
     "shell.execute_reply": "2024-03-25T20:14:58.800956Z",
     "shell.execute_reply.started": "2024-03-25T20:14:57.674637Z"
    },
    "id": "mOpou6cvgEVf",
    "outputId": "c6f4b493-6ead-4eae-db53-7d2d9b01b94e"
   },
   "outputs": [],
   "source": [
    "#Create Gradient Boosting model\n",
    "model=GradientBoostingClassifier()\n",
    "model.fit(x_train,y_train)"
   ]
  },
  {
   "cell_type": "code",
   "execution_count": null,
   "metadata": {
    "execution": {
     "iopub.execute_input": "2024-03-25T20:14:58.804331Z",
     "iopub.status.busy": "2024-03-25T20:14:58.803957Z",
     "iopub.status.idle": "2024-03-25T20:14:58.830638Z",
     "shell.execute_reply": "2024-03-25T20:14:58.829619Z",
     "shell.execute_reply.started": "2024-03-25T20:14:58.804301Z"
    },
    "id": "uqS9ck5IhGvB",
    "outputId": "2f5d3cff-2331-4765-f2bf-93a20a53e1b3"
   },
   "outputs": [],
   "source": [
    "#Model Score\n",
    "model_score=model.score(x_train, y_train)\n",
    "print(model_score)"
   ]
  },
  {
   "cell_type": "code",
   "execution_count": null,
   "metadata": {
    "execution": {
     "iopub.execute_input": "2024-03-25T20:14:58.833034Z",
     "iopub.status.busy": "2024-03-25T20:14:58.832632Z",
     "iopub.status.idle": "2024-03-25T20:14:58.849336Z",
     "shell.execute_reply": "2024-03-25T20:14:58.847821Z",
     "shell.execute_reply.started": "2024-03-25T20:14:58.833001Z"
    },
    "id": "7UEgfHALhNCC",
    "outputId": "ffe42d63-9981-4671-d0fe-25f9ce5b1d84"
   },
   "outputs": [],
   "source": [
    "#Prediction\n",
    "y_pred = model.predict(x_test)\n",
    "print(y_pred)"
   ]
  },
  {
   "cell_type": "code",
   "execution_count": null,
   "metadata": {
    "execution": {
     "iopub.execute_input": "2024-03-25T20:14:58.858547Z",
     "iopub.status.busy": "2024-03-25T20:14:58.858118Z",
     "iopub.status.idle": "2024-03-25T20:14:58.868522Z",
     "shell.execute_reply": "2024-03-25T20:14:58.8669Z",
     "shell.execute_reply.started": "2024-03-25T20:14:58.858517Z"
    },
    "id": "L6unQbVvhSda",
    "outputId": "dc89b485-a0e8-4999-fa6d-039c14d03e93"
   },
   "outputs": [],
   "source": [
    "#Accuracy\n",
    "accuracy=accuracy_score(y_test, y_pred)\n",
    "print(\"Accuracy: {:.2f}%\".format(accuracy * 100))"
   ]
  },
  {
   "cell_type": "code",
   "execution_count": null,
   "metadata": {
    "execution": {
     "iopub.execute_input": "2024-03-25T20:14:58.870863Z",
     "iopub.status.busy": "2024-03-25T20:14:58.870368Z",
     "iopub.status.idle": "2024-03-25T20:14:59.250842Z",
     "shell.execute_reply": "2024-03-25T20:14:59.249298Z",
     "shell.execute_reply.started": "2024-03-25T20:14:58.870827Z"
    },
    "id": "Yc848_1KhYqA",
    "outputId": "80710fce-3add-4aff-b232-5a1d19c2599c"
   },
   "outputs": [],
   "source": [
    "#Visualization\n",
    "y_prob = model.predict_proba(x_test)[:, 1]\n",
    "fpr, tpr, thresholds = roc_curve(y_test, y_prob)\n",
    "\n",
    "plt.figure(figsize=(10, 5))\n",
    "plt.plot(fpr, tpr, color='green', lw=2)\n",
    "plt.plot([0, 1], [0, 1], color='black', lw=2)\n",
    "plt.xlabel('False Positive Rate')\n",
    "plt.ylabel('True Positive Rate')\n",
    "plt.title('Gradient Boosting\\nAccuracy: {:.2f}%'.format(accuracy * 100))\n",
    "plt.show()"
   ]
  },
  {
   "cell_type": "markdown",
   "metadata": {
    "id": "MjVu8BMEvcGS"
   },
   "source": [
    "# Comparing all models"
   ]
  },
  {
   "cell_type": "code",
   "execution_count": null,
   "metadata": {
    "execution": {
     "iopub.execute_input": "2024-03-25T20:14:59.253936Z",
     "iopub.status.busy": "2024-03-25T20:14:59.253235Z",
     "iopub.status.idle": "2024-03-25T20:14:59.26163Z",
     "shell.execute_reply": "2024-03-25T20:14:59.259393Z",
     "shell.execute_reply.started": "2024-03-25T20:14:59.253891Z"
    },
    "id": "y55Uy-gChewe"
   },
   "outputs": [],
   "source": [
    "#Define model names\n",
    "model_names = [\"Random Forest\", \"Logistic Regression\", \"Gradient Boosting\"]"
   ]
  },
  {
   "cell_type": "code",
   "execution_count": null,
   "metadata": {
    "execution": {
     "iopub.execute_input": "2024-03-25T20:14:59.264838Z",
     "iopub.status.busy": "2024-03-25T20:14:59.264176Z",
     "iopub.status.idle": "2024-03-25T20:14:59.28024Z",
     "shell.execute_reply": "2024-03-25T20:14:59.27893Z",
     "shell.execute_reply.started": "2024-03-25T20:14:59.264796Z"
    },
    "id": "SSIQQc-FnTlS"
   },
   "outputs": [],
   "source": [
    "#Define lists to store accuracies\n",
    "acc_list = []"
   ]
  },
  {
   "cell_type": "code",
   "execution_count": null,
   "metadata": {
    "execution": {
     "iopub.execute_input": "2024-03-25T20:14:59.281888Z",
     "iopub.status.busy": "2024-03-25T20:14:59.281473Z",
     "iopub.status.idle": "2024-03-25T20:15:01.937377Z",
     "shell.execute_reply": "2024-03-25T20:15:01.935946Z",
     "shell.execute_reply.started": "2024-03-25T20:14:59.281854Z"
    },
    "id": "YZdwQB_tnWGh"
   },
   "outputs": [],
   "source": [
    "#Calculate and store accuracies for each model\n",
    "for model in [RandomForestClassifier(), LogisticRegression(), GradientBoostingClassifier()]:\n",
    "    model.fit(x_train, y_train)\n",
    "    y_pred = model.predict(x_test)\n",
    "    accuracy = accuracy_score(y_test, y_pred)\n",
    "    acc_list.append(accuracy)"
   ]
  },
  {
   "cell_type": "code",
   "execution_count": null,
   "metadata": {
    "execution": {
     "iopub.execute_input": "2024-03-25T20:15:01.939557Z",
     "iopub.status.busy": "2024-03-25T20:15:01.939185Z",
     "iopub.status.idle": "2024-03-25T20:15:01.95332Z",
     "shell.execute_reply": "2024-03-25T20:15:01.951899Z",
     "shell.execute_reply.started": "2024-03-25T20:15:01.939527Z"
    },
    "id": "ic6Mq1wLnbJW",
    "outputId": "610b4ab8-9c36-4075-fa48-103804872be5"
   },
   "outputs": [],
   "source": [
    "#DataFrame to store results\n",
    "model_results = pd.DataFrame({\"Model\": model_names,\n",
    "                              \"Accuracy_Score\": acc_list})\n",
    "model_results"
   ]
  },
  {
   "cell_type": "code",
   "execution_count": null,
   "metadata": {
    "execution": {
     "iopub.execute_input": "2024-03-25T20:15:01.956197Z",
     "iopub.status.busy": "2024-03-25T20:15:01.95529Z",
     "iopub.status.idle": "2024-03-25T20:15:02.213598Z",
     "shell.execute_reply": "2024-03-25T20:15:02.212077Z",
     "shell.execute_reply.started": "2024-03-25T20:15:01.95614Z"
    },
    "id": "S6qqce0GvSi5",
    "outputId": "15694f08-f07e-49c5-9be8-0c0cd4904d2c"
   },
   "outputs": [],
   "source": [
    "#Barplot of accuracies\n",
    "sns.barplot(x=\"Model\", y=\"Accuracy_Score\", data=model_results)"
   ]
  }
 ],
 "metadata": {
  "colab": {
   "provenance": []
  },
  "kaggle": {
   "accelerator": "none",
   "dataSources": [
    {
     "datasetId": 2008274,
     "sourceId": 3322096,
     "sourceType": "datasetVersion"
    }
   ],
   "dockerImageVersionId": 30673,
   "isGpuEnabled": false,
   "isInternetEnabled": false,
   "language": "python",
   "sourceType": "notebook"
  },
  "kernelspec": {
   "display_name": "Python 3 (ipykernel)",
   "language": "python",
   "name": "python3"
  },
  "language_info": {
   "codemirror_mode": {
    "name": "ipython",
    "version": 3
   },
   "file_extension": ".py",
   "mimetype": "text/x-python",
   "name": "python",
   "nbconvert_exporter": "python",
   "pygments_lexer": "ipython3",
   "version": "3.11.7"
  },
  "papermill": {
   "default_parameters": {},
   "duration": 9.399152,
   "end_time": "2024-02-19T18:08:28.121673",
   "environment_variables": {},
   "exception": null,
   "input_path": "__notebook__.ipynb",
   "output_path": "__notebook__.ipynb",
   "parameters": {},
   "start_time": "2024-02-19T18:08:18.722521",
   "version": "2.5.0"
  }
 },
 "nbformat": 4,
 "nbformat_minor": 4
}
